{
 "cells": [
  {
   "cell_type": "code",
   "execution_count": 33,
   "metadata": {},
   "outputs": [],
   "source": [
    "import pandas as pd\n",
    "import json\n",
    "import pyjsonviewer\n",
    "import requests"
   ]
  },
  {
   "cell_type": "code",
   "execution_count": 49,
   "metadata": {},
   "outputs": [],
   "source": [
    "pd_file = 'Bershka/bershka_stock.json'\n",
    "with open(pd_file,encoding='UTF-8') as project_file:    \n",
    "    bershka_stock = json.load(project_file) \n",
    "\n",
    "for item in bershka_stock:\n",
    "    for option in item['item_options']:\n",
    "        for size in option['sizes']:\n",
    "            if(option['sizes'][0]['size'] == option['sizes'][1]['size']):\n",
    "                temp_sizes = option['sizes']\n",
    "                option['sizes'].clear()\n",
    "                for i in range(0,len(temp_sizes),2):\n",
    "                    print(5)\n",
    "                    option['sizes'].append(5)\n",
    "                    # option['sizes'].append({\n",
    "                    #     \"size\":temp_sizes[i]['size'],\n",
    "                    #     \"availability\":temp_sizes[i]['availability'] | temp_sizes[i]['availability']\n",
    "                    #     })\n",
    "with open('options_sample.json', 'w') as f:\n",
    "    f.write(json.dumps(bershka_stock))"
   ]
  },
  {
   "cell_type": "code",
   "execution_count": 48,
   "metadata": {},
   "outputs": [],
   "source": [
    "pd_file = 'sample.json'\n",
    "with open(pd_file,encoding='UTF-8') as project_file:    \n",
    "    data = json.load(project_file)  \n",
    "    \n",
    "links = []    \n",
    "\n",
    "headers = {\n",
    "    \"User-Agent\": \"Mozilla/5.0 (Windows NT 10.0; Win64; x64; rv:98.0) Gecko/20100101 Firefox/98.0\"\n",
    "}\n",
    "\n",
    "for media in data['xmedia']:\n",
    "    for media_item in media['xmediaItems']:\n",
    "        for m_item in media_item['medias']:\n",
    "            for extra_info in m_item['extraInfo']['hash']:\n",
    "                if media_item['set'] == 0:\n",
    "                    links.append(\"https://static.bershka.net/4/photos2\" + media['path'] + '/' + extra_info['md5Hash'] + '-' + m_item['idMedia'] + '0.jpg')\n",
    "                else:\n",
    "                    pass\n",
    "\n"
   ]
  },
  {
   "cell_type": "code",
   "execution_count": 91,
   "metadata": {},
   "outputs": [
    {
     "name": "stdout",
     "output_type": "stream",
     "text": [
      "116912833 Extra loose fit short sleeve T-shirt\n"
     ]
    }
   ],
   "source": [
    "pd_file = 'Bershka/bershka_sample.json'\n",
    "with open(pd_file,encoding='UTF-8') as project_file:    \n",
    "    data = json.load(project_file)  \n",
    "\n",
    "bershka_stock = []\n",
    "options = []\n",
    "\n",
    "for item in data['products']:\n",
    "                    try:\n",
    "                        old_price = item['bundleProductSummaries'][0]['detail']['colors'][0]['sizes'][0]['oldPrice']\n",
    "                        new_price = item['bundleProductSummaries'][0]['detail']['colors'][0]['sizes'][0]['price']\n",
    "                        \n",
    "                        choices = item['bundleProductSummaries'][0]['detail']['colors']\n",
    "                        medias = item['bundleProductSummaries'][0]['detail']\n",
    "                        options = []\n",
    "                        for color,media in zip(choices,medias['xmedia']):\n",
    "                            choice = {\n",
    "                                \"color\": media['colorCode'],\n",
    "                                \"sizes\": [],\n",
    "                                \"images\":[]\n",
    "                            }\n",
    "                            for media_item in media['xmediaItems']:\n",
    "                                if media_item['set'] == 0:\n",
    "                                    for m_item in media_item['medias']:\n",
    "                                        if 'hash' not in m_item['extraInfo'].keys():\n",
    "                                            pass\n",
    "                                        else:\n",
    "                                            choice['images'].append(\"https://static.bershka.net/4/photos2\" + media['path'] + '/' + m_item['extraInfo']['hash'][0]['md5Hash'] + '-' + m_item['idMedia'] + '0.jpg')\n",
    "                                            pass\n",
    "                                    break\n",
    "                                else:\n",
    "                                    pass\n",
    "                            for size in color['sizes']:\n",
    "                                choice['sizes'].append(\n",
    "                                    {\n",
    "                                        'size': size['name'],\n",
    "                                        'availability': True if size['visibilityValue'] == \"SHOW\" else False\n",
    "                                    }\n",
    "                                )\n",
    "                            options.append(choice)\n",
    "                                \n",
    "                        bershka_stock.append(\n",
    "                                {\n",
    "                                    'item_brand': \"Bershka\",\n",
    "                                    # 'item_section': section,\n",
    "                                    # 'item_category': category,\n",
    "                                    'item_id': item['id'],\n",
    "                                    'item_name': item['name'],\n",
    "                                    'item_original_price': int(old_price[:-2]) if (old_price is not None) else int(new_price[:-2]),\n",
    "                                    'item_new_price': int(new_price[:-2]),\n",
    "                                    # 'item_discount': int(ceil(100*(1-(int(new_price[:-2]) / int(old_price[:-2]))))) if (old_price is not None) else 0,\n",
    "                                    'item_link': \"https://www.bershka.com/eg/en/\" + item['productUrl'],\n",
    "                                    'item_options': options,                                \n",
    "                                }\n",
    "                        )\n",
    "                    except:\n",
    "                        print(str(item['id']) + \" \" + item['name'])\n",
    "                        \n",
    "with open(\"options_test.json\", 'w') as f:\n",
    "    f.write(json.dumps(bershka_stock))"
   ]
  }
 ],
 "metadata": {
  "kernelspec": {
   "display_name": "Python 3.10.6 ('env': venv)",
   "language": "python",
   "name": "python3"
  },
  "language_info": {
   "codemirror_mode": {
    "name": "ipython",
    "version": 3
   },
   "file_extension": ".py",
   "mimetype": "text/x-python",
   "name": "python",
   "nbconvert_exporter": "python",
   "pygments_lexer": "ipython3",
   "version": "3.10.6"
  },
  "orig_nbformat": 4,
  "vscode": {
   "interpreter": {
    "hash": "048b66417c33ae8306f5b577f4bfc48e7cc2d26b2bad811f475f957da62d1df0"
   }
  }
 },
 "nbformat": 4,
 "nbformat_minor": 2
}
